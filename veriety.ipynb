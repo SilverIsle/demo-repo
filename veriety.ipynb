{
  "nbformat": 4,
  "nbformat_minor": 0,
  "metadata": {
    "colab": {
      "provenance": [],
      "authorship_tag": "ABX9TyPYC9127w+uS5xiK4p6vZ1V",
      "include_colab_link": true
    },
    "kernelspec": {
      "name": "python3",
      "display_name": "Python 3"
    },
    "language_info": {
      "name": "python"
    },
    "accelerator": "GPU",
    "gpuClass": "standard"
  },
  "cells": [
    {
      "cell_type": "markdown",
      "metadata": {
        "id": "view-in-github",
        "colab_type": "text"
      },
      "source": [
        "<a href=\"https://colab.research.google.com/github/SilverIsle/demo-repo/blob/main/veriety.ipynb\" target=\"_parent\"><img src=\"https://colab.research.google.com/assets/colab-badge.svg\" alt=\"Open In Colab\"/></a>"
      ]
    },
    {
      "cell_type": "code",
      "execution_count": null,
      "metadata": {
        "id": "Da8-5eGDOZsw"
      },
      "outputs": [],
      "source": [
        "import torch as pt\n",
        "t=pt.tensor([[1,2]])"
      ]
    },
    {
      "cell_type": "code",
      "source": [
        "x=pt.stack([t,t,t],dim=0)\n",
        "print(x.shape)\n",
        "print(x)"
      ],
      "metadata": {
        "id": "cP3qTnIzPGFG",
        "colab": {
          "base_uri": "https://localhost:8080/"
        },
        "outputId": "980c7c24-4dc3-46b4-98b4-7565284003d8"
      },
      "execution_count": null,
      "outputs": [
        {
          "output_type": "stream",
          "name": "stdout",
          "text": [
            "torch.Size([3, 1, 2])\n",
            "tensor([[[1, 2]],\n",
            "\n",
            "        [[1, 2]],\n",
            "\n",
            "        [[1, 2]]])\n"
          ]
        }
      ]
    },
    {
      "cell_type": "code",
      "source": [
        "x=pt.stack([t,t,t],dim=1)\n",
        "print(x.shape)\n",
        "print(x)"
      ],
      "metadata": {
        "id": "L8KDyA-nUFFN",
        "colab": {
          "base_uri": "https://localhost:8080/"
        },
        "outputId": "11d75c5e-cbdf-4871-db06-847cfe25ac4d"
      },
      "execution_count": null,
      "outputs": [
        {
          "output_type": "stream",
          "name": "stdout",
          "text": [
            "torch.Size([1, 3, 2])\n",
            "tensor([[[1, 2],\n",
            "         [1, 2],\n",
            "         [1, 2]]])\n"
          ]
        }
      ]
    },
    {
      "cell_type": "code",
      "source": [
        "x=pt.stack([t,t,t],dim=2)\n",
        "print(x.shape)\n",
        "print(x)"
      ],
      "metadata": {
        "id": "iu_WQ-8MX69F",
        "colab": {
          "base_uri": "https://localhost:8080/"
        },
        "outputId": "a5f54fe7-8207-469f-e4cf-3a1538572e7b"
      },
      "execution_count": null,
      "outputs": [
        {
          "output_type": "stream",
          "name": "stdout",
          "text": [
            "torch.Size([1, 2, 3])\n",
            "tensor([[[1, 1, 1],\n",
            "         [2, 2, 2]]])\n"
          ]
        }
      ]
    },
    {
      "cell_type": "code",
      "source": [
        "t=pt.tensor([[[1,2]],[[1,2]],[[1,2]]])\n",
        "t"
      ],
      "metadata": {
        "id": "WaZKliQbX9HJ",
        "colab": {
          "base_uri": "https://localhost:8080/"
        },
        "outputId": "bdcef66b-7304-4497-ed02-9e60c9a5e769"
      },
      "execution_count": null,
      "outputs": [
        {
          "output_type": "execute_result",
          "data": {
            "text/plain": [
              "tensor([[[4, 2]],\n",
              "\n",
              "        [[1, 2]],\n",
              "\n",
              "        [[1, 2]]])"
            ]
          },
          "metadata": {},
          "execution_count": 17
        }
      ]
    },
    {
      "cell_type": "code",
      "source": [
        "t[:,:,0]"
      ],
      "metadata": {
        "colab": {
          "base_uri": "https://localhost:8080/"
        },
        "id": "FpqGhsYM4CGg",
        "outputId": "97a253d3-388f-4f65-9e56-d15cd0bb3844"
      },
      "execution_count": null,
      "outputs": [
        {
          "output_type": "execute_result",
          "data": {
            "text/plain": [
              "tensor([[4],\n",
              "        [1],\n",
              "        [1]])"
            ]
          },
          "metadata": {},
          "execution_count": 21
        }
      ]
    },
    {
      "cell_type": "code",
      "source": [],
      "metadata": {
        "id": "Qk76CznHHkqk"
      },
      "execution_count": null,
      "outputs": []
    }
  ]
}